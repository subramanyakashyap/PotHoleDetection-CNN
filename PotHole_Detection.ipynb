{
 "cells": [
  {
   "cell_type": "code",
   "execution_count": 1,
   "metadata": {},
   "outputs": [],
   "source": [
    "from keras.models import Sequential\n",
    "from keras.layers import Convolution2D\n",
    "from keras.layers import MaxPooling2D\n",
    "from keras.layers import Flatten\n",
    "from keras.layers import Dense\n",
    "from keras.preprocessing.image import ImageDataGenerator\n",
    "from matplotlib import pyplot as plt\n",
    "import numpy as np\n",
    "from keras.preprocessing import image"
   ]
  },
  {
   "cell_type": "code",
   "execution_count": 2,
   "metadata": {},
   "outputs": [],
   "source": [
    "classifier = Sequential()"
   ]
  },
  {
   "cell_type": "code",
   "execution_count": 3,
   "metadata": {},
   "outputs": [],
   "source": [
    "classifier.add(Convolution2D(32, (3, 3), input_shape=(64,64,3), activation='relu'))"
   ]
  },
  {
   "cell_type": "code",
   "execution_count": 4,
   "metadata": {},
   "outputs": [],
   "source": [
    "classifier.add(MaxPooling2D(pool_size=(2,2)))"
   ]
  },
  {
   "cell_type": "code",
   "execution_count": 5,
   "metadata": {},
   "outputs": [],
   "source": [
    "classifier.add(Convolution2D(32, (3, 3), activation='relu'))\n",
    "classifier.add(MaxPooling2D(pool_size=(2,2)))"
   ]
  },
  {
   "cell_type": "code",
   "execution_count": 6,
   "metadata": {},
   "outputs": [],
   "source": [
    "classifier.add(Flatten())"
   ]
  },
  {
   "cell_type": "code",
   "execution_count": 7,
   "metadata": {},
   "outputs": [],
   "source": [
    "classifier.add(Dense(128, activation='relu'))\n",
    "classifier.add(Dense(1, activation='sigmoid'))"
   ]
  },
  {
   "cell_type": "code",
   "execution_count": 8,
   "metadata": {},
   "outputs": [],
   "source": [
    "classifier.compile(optimizer='adam', loss='binary_crossentropy', metrics=['accuracy'])"
   ]
  },
  {
   "cell_type": "code",
   "execution_count": 10,
   "metadata": {},
   "outputs": [
    {
     "name": "stdout",
     "output_type": "stream",
     "text": [
      "Found 600 images belonging to 2 classes.\n",
      "Found 81 images belonging to 2 classes.\n"
     ]
    }
   ],
   "source": [
    "train_datagen = ImageDataGenerator(\n",
    "        rescale=1./255,\n",
    "        shear_range=0.2,\n",
    "        zoom_range=0.2,\n",
    "        horizontal_flip=True)\n",
    "\n",
    "test_datagen = ImageDataGenerator(rescale=1./255)\n",
    "\n",
    "training_set = train_datagen.flow_from_directory('/Data/train',\n",
    "                                                target_size=(64, 64),\n",
    "                                                batch_size=32,\n",
    "                                                class_mode='binary')\n",
    "\n",
    "test_set = test_datagen.flow_from_directory('/Data/test',\n",
    "                                            target_size=(64, 64),\n",
    "                                            batch_size=32,\n",
    "                                            class_mode='binary')"
   ]
  },
  {
   "cell_type": "code",
   "execution_count": 11,
   "metadata": {},
   "outputs": [
    {
     "name": "stdout",
     "output_type": "stream",
     "text": [
      "WARNING:tensorflow:From <ipython-input-11-3f0f1938dd62>:5: Model.fit_generator (from tensorflow.python.keras.engine.training) is deprecated and will be removed in a future version.\n",
      "Instructions for updating:\n",
      "Please use Model.fit, which supports generators.\n",
      "Epoch 1/25\n",
      "562/562 [==============================] - 229s 408ms/step - loss: 0.1937 - accuracy: 0.9185 - val_loss: 0.6585 - val_accuracy: 0.7906\n",
      "Epoch 2/25\n",
      "562/562 [==============================] - 239s 425ms/step - loss: 0.0648 - accuracy: 0.9753 - val_loss: 0.7288 - val_accuracy: 0.8027\n",
      "Epoch 3/25\n",
      "562/562 [==============================] - 237s 421ms/step - loss: 0.0253 - accuracy: 0.9915 - val_loss: 0.9629 - val_accuracy: 0.8392\n",
      "Epoch 4/25\n",
      "562/562 [==============================] - 218s 389ms/step - loss: 0.0081 - accuracy: 0.9979 - val_loss: 1.1256 - val_accuracy: 0.8148\n",
      "Epoch 5/25\n",
      "562/562 [==============================] - 218s 388ms/step - loss: 0.0122 - accuracy: 0.9956 - val_loss: 1.0647 - val_accuracy: 0.8389\n",
      "Epoch 6/25\n",
      "562/562 [==============================] - 233s 415ms/step - loss: 0.0160 - accuracy: 0.9943 - val_loss: 1.4040 - val_accuracy: 0.8268\n",
      "Epoch 7/25\n",
      "562/562 [==============================] - 219s 389ms/step - loss: 0.0118 - accuracy: 0.9955 - val_loss: 1.3954 - val_accuracy: 0.8268\n",
      "Epoch 8/25\n",
      "562/562 [==============================] - 215s 382ms/step - loss: 0.0114 - accuracy: 0.9959 - val_loss: 1.5791 - val_accuracy: 0.8144\n",
      "Epoch 9/25\n",
      "562/562 [==============================] - 214s 380ms/step - loss: 0.0034 - accuracy: 0.9991 - val_loss: 1.7346 - val_accuracy: 0.8016\n",
      "Epoch 10/25\n",
      "562/562 [==============================] - 215s 382ms/step - loss: 4.8968e-04 - accuracy: 0.9999 - val_loss: 1.8801 - val_accuracy: 0.8268\n",
      "Epoch 11/25\n",
      "562/562 [==============================] - 214s 382ms/step - loss: 0.0139 - accuracy: 0.9955 - val_loss: 1.5549 - val_accuracy: 0.8031\n",
      "Epoch 12/25\n",
      "562/562 [==============================] - 215s 383ms/step - loss: 0.0045 - accuracy: 0.9986 - val_loss: 1.3327 - val_accuracy: 0.8524\n",
      "Epoch 13/25\n",
      "562/562 [==============================] - 216s 384ms/step - loss: 0.0123 - accuracy: 0.9957 - val_loss: 1.2280 - val_accuracy: 0.8396\n",
      "Epoch 14/25\n",
      "562/562 [==============================] - 216s 385ms/step - loss: 3.5191e-04 - accuracy: 1.0000 - val_loss: 1.4962 - val_accuracy: 0.8513\n",
      "Epoch 15/25\n",
      "562/562 [==============================] - 214s 380ms/step - loss: 8.7942e-05 - accuracy: 1.0000 - val_loss: 1.3834 - val_accuracy: 0.8641\n",
      "Epoch 16/25\n",
      "562/562 [==============================] - 214s 382ms/step - loss: 3.0404e-05 - accuracy: 1.0000 - val_loss: 1.5717 - val_accuracy: 0.8641\n",
      "Epoch 17/25\n",
      "562/562 [==============================] - 216s 384ms/step - loss: 3.6409e-05 - accuracy: 1.0000 - val_loss: 1.6864 - val_accuracy: 0.8275\n",
      "Epoch 18/25\n",
      "562/562 [==============================] - 214s 382ms/step - loss: 2.2181e-05 - accuracy: 1.0000 - val_loss: 1.5627 - val_accuracy: 0.8641\n",
      "Epoch 19/25\n",
      "562/562 [==============================] - 215s 383ms/step - loss: 0.0223 - accuracy: 0.9931 - val_loss: 1.3412 - val_accuracy: 0.8392\n",
      "Epoch 20/25\n",
      "562/562 [==============================] - 215s 383ms/step - loss: 4.8809e-04 - accuracy: 0.9999 - val_loss: 1.4213 - val_accuracy: 0.8648\n",
      "Epoch 21/25\n",
      "562/562 [==============================] - 214s 382ms/step - loss: 0.0062 - accuracy: 0.9978 - val_loss: 1.6027 - val_accuracy: 0.8265\n",
      "Epoch 22/25\n",
      "562/562 [==============================] - 216s 384ms/step - loss: 0.0048 - accuracy: 0.9983 - val_loss: 1.2996 - val_accuracy: 0.8148\n",
      "Epoch 23/25\n",
      "562/562 [==============================] - 215s 383ms/step - loss: 3.8984e-04 - accuracy: 0.9999 - val_loss: 1.4191 - val_accuracy: 0.8396\n",
      "Epoch 24/25\n",
      "562/562 [==============================] - 216s 385ms/step - loss: 0.0091 - accuracy: 0.9974 - val_loss: 1.3216 - val_accuracy: 0.8645\n",
      "Epoch 25/25\n",
      "562/562 [==============================] - 217s 387ms/step - loss: 1.4636e-04 - accuracy: 1.0000 - val_loss: 1.4032 - val_accuracy: 0.8648\n"
     ]
    },
    {
     "data": {
      "text/plain": [
       "<tensorflow.python.keras.callbacks.History at 0x24044d394e0>"
      ]
     },
     "execution_count": 11,
     "metadata": {},
     "output_type": "execute_result"
    }
   ],
   "source": [
    "classifier.fit_generator(training_set,\n",
    "        steps_per_epoch=562,\n",
    "        epochs=25,\n",
    "        validation_data=test_set,\n",
    "        validation_steps=101)"
   ]
  },
  {
   "cell_type": "code",
   "execution_count": 12,
   "metadata": {},
   "outputs": [
    {
     "data": {
      "image/png": "[encoded data removed]",
      "text/plain": [
       "<Figure size 432x288 with 1 Axes>"
      ]
     },
     "metadata": {
      "needs_background": "light"
     },
     "output_type": "display_data"
    }
   ],
   "source": [
    "plt.plot(classifier.history.history['accuracy'])\n",
    "plt.plot(classifier.history.history['val_accuracy'])\n",
    "plt.title('Analysis of the model accuracy')\n",
    "plt.ylabel('accuracy')\n",
    "plt.xlabel('epoch')\n",
    "plt.legend(['Accuracy', 'Value Accuracy'], loc='upper right')\n",
    "plt.show()"
   ]
  },
  {
   "cell_type": "code",
   "execution_count": 13,
   "metadata": {},
   "outputs": [],
   "source": [
    "def predictImg(imgpath):\n",
    "    predict_image = image.load_img(imgpath, target_size = (64,64))\n",
    "    predict_image = image.img_to_array(predict_image)\n",
    "    predict_image = np.expand_dims(predict_image, axis=0)\n",
    "    result = classifier.predict(predict_image)\n",
    "    return result.max()"
   ]
  },
  {
   "cell_type": "code",
   "execution_count": 14,
   "metadata": {},
   "outputs": [
    {
     "data": {
      "text/plain": [
       "1.0"
      ]
     },
     "execution_count": 14,
     "metadata": {},
     "output_type": "execute_result"
    }
   ],
   "source": [
    "predictImg('Image/you/want/to/predict')\n"
   ]
  },
  {
   "cell_type": "code",
   "execution_count": 15,
   "metadata": {},
   "outputs": [
    {
     "data": {
      "text/plain": [
       "0.0"
      ]
     },
     "execution_count": 15,
     "metadata": {},
     "output_type": "execute_result"
    }
   ],
   "source": [
    "predictImg('Image/you/want/to/predict')\n"
   ]
  },
  {
   "cell_type": "code",
   "execution_count": 16,
   "metadata": {},
   "outputs": [],
   "source": [
    "classifier.save(\"PotHoleDetectionModel.h5\")"
   ]
  }
 ],
 "metadata": {
  "kernelspec": {
   "display_name": "Python 3",
   "language": "python",
   "name": "python3"
  },
  "language_info": {
   "codemirror_mode": {
    "name": "ipython",
    "version": 3
   },
   "file_extension": ".py",
   "mimetype": "text/x-python",
   "name": "python",
   "nbconvert_exporter": "python",
   "pygments_lexer": "ipython3",
   "version": "3.7.3"
  }
 },
 "nbformat": 4,
 "nbformat_minor": 2
}
